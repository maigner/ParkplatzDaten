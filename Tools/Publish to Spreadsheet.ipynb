{
 "cells": [
  {
   "cell_type": "code",
   "execution_count": null,
   "metadata": {},
   "outputs": [],
   "source": []
  },
  {
   "cell_type": "code",
   "execution_count": 9,
   "metadata": {},
   "outputs": [
    {
     "name": "stdout",
     "output_type": "stream",
     "text": [
      "Processing file: Traunkai_id_72.csv 2024-01-01 01:00:00 2024-03-10 11:00:00\n",
      "Processing file: Kaiservilla_id_68.csv 2024-01-01 06:00:00 2024-03-12 19:00:00\n",
      "Processing file: Rechensteg_id_70.csv 2024-01-01 00:00:00 2024-03-09 10:00:00\n",
      "Processing file: Kongress_id_78.csv 2024-01-01 03:00:00 2024-03-08 14:00:00\n",
      "2024-01-01 00:00:00 2024-03-12 19:00:00 ../Export/parkingdata_2024-01-01 00:00:00_2024-03-12 19:00:00_Kongress_id_78.csv.xlsx\n",
      "Traunkai_id_72.csv\n",
      "Kaiservilla_id_68.csv\n",
      "Rechensteg_id_70.csv\n",
      "Kongress_id_78.csv\n"
     ]
    }
   ],
   "source": [
    "import os\n",
    "import pandas as pd\n",
    "from openpyxl import load_workbook\n",
    "\n",
    "CSV_DIR=\"../Export/Cars per Hour\"\n",
    "EXCEL_DIR=CSV_DIR\n",
    "\n",
    "min_start = None\n",
    "max_end = None\n",
    "\n",
    "items = []\n",
    "\n",
    "# Iterate over files in the directory\n",
    "for filename in os.listdir(CSV_DIR):\n",
    "    if filename.endswith(\".csv\"):\n",
    "        # Full path to the CSV file\n",
    "        file_path = os.path.join(CSV_DIR, filename)\n",
    "        \n",
    "        # Read the CSV file\n",
    "        df = pd.read_csv(file_path, parse_dates=[\"hour\"])\n",
    "        items.append({\n",
    "            'df': df,\n",
    "            'name': filename\n",
    "        })\n",
    "        \n",
    "        start = df['hour'].min()\n",
    "        if not min_start or min_start > start:\n",
    "            min_start = start\n",
    "            \n",
    "        \n",
    "        end = df['hour'].max()\n",
    "        if not max_end or max_end < end:\n",
    "            max_end = end\n",
    "        \n",
    "        # Do something with the DataFrame (example: print the first few rows)\n",
    "        print(f\"Processing file: {filename}\", start, end)\n",
    "        #print(df.dtypes)\n",
    "        #print(df.head())\n",
    "        \n",
    "\n",
    "\n",
    "\n",
    "print(min_start, max_end, excel_file_name)\n",
    "\n",
    "for item in items:\n",
    "    print(item['name'])\n",
    "    \n",
    "    excel_file_name = f\"{EXCEL_DIR}/parkingdata_{min_start}_{max_end}_{item['name']}.xlsx\"\n",
    "        \n",
    "    item['df'].to_excel(excel_file_name, sheet_name=item['name'], index=False)\n",
    "    \n"
   ]
  },
  {
   "cell_type": "code",
   "execution_count": null,
   "metadata": {},
   "outputs": [],
   "source": []
  }
 ],
 "metadata": {
  "kernelspec": {
   "display_name": ".venv",
   "language": "python",
   "name": "python3"
  },
  "language_info": {
   "codemirror_mode": {
    "name": "ipython",
    "version": 3
   },
   "file_extension": ".py",
   "mimetype": "text/x-python",
   "name": "python",
   "nbconvert_exporter": "python",
   "pygments_lexer": "ipython3",
   "version": "3.10.12"
  }
 },
 "nbformat": 4,
 "nbformat_minor": 2
}
